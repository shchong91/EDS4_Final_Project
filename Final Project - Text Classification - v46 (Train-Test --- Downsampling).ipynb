{
 "cells": [
  {
   "cell_type": "markdown",
   "metadata": {},
   "source": [
    "## Text Classification Using Scikit-Learn\n",
    "\n",
    "### Content\n",
    "\n",
    "* Objective\n",
    "* Dataset\n",
    "* Data Preparation Using R\n",
    "* Data Exploration Using Python\n",
    "\n"
   ]
  },
  {
   "cell_type": "markdown",
   "metadata": {},
   "source": [
    "### Objective\n",
    "#### To reduce the processing time of manual coding\n",
    "\n",
    "Open-end responses in a survey is always a great way to retrieve valuable information/ feedback from respondents. It allows respondents to express their thoughts and opinions through their own words. \n",
    "\n",
    "Manual coding is the most often way performed on the open-end responses so that the responses can be quantified and analysed in the same way as multiple response questions. \n",
    "\n",
    "However, manual coding is a very tedious and time consuming process as it requires coders to read and categorize each of the responses one by one.   "
   ]
  },
  {
   "cell_type": "markdown",
   "metadata": {},
   "source": [
    "### Dataset\n",
    "\n",
    "<img src=\"https://pinnacledealersolutions.net/wp-content/uploads/2017/05/blog-img-dealer-man-handships.jpg\", width=400>\n",
    "\n",
    "\n",
    "Customer Experience is key to success in automotive industry. \n",
    "The dataset that I'm using is the actual feedback/ comment from the customers about their dealership experience. \n",
    "\n",
    "Each feedback/comment will have a few classified categories (up to 8 categories) that were manually done by coder previously. So, I'm going to build a model to train on the labeled dataset with the pre-defined categories and feed the model with unseen data so that the model is able to classify them into categories."
   ]
  },
  {
   "cell_type": "markdown",
   "metadata": {},
   "source": [
    "### Data Preparation Using R\n",
    "\n",
    "#### Library\n",
    "    ibrary(plyr)\n",
    "\n",
    "#### Set Working Directory\n",
    "    setwd(\"C:\\\\Users\\\\SiowHui.Chong\\\\Desktop\\\\EDS4\\\\Enterprise_Data_Science4_EDS4\\\\Project\\\\Data\")\n",
    "\n",
    "#### Load Data from CSV\n",
    "    raw <- read.csv(\"DealershipExperience_1.csv\", header = TRUE, sep = \",\")\n",
    "<div class=\"alert alert-success\">\n",
    "Due to the encoding issue, i got special character (i..id) appended to the first variable in my first column, so I will rename my first column from \"i...id\" to \"id\".\n",
    "</div>\n",
    "    \n",
    "    names(raw)[1]<-\"id\"\n",
    "\n",
    "#### Data Preparation\n",
    "\n",
    "* Remove the double quote \" in string variable (feedback/comment) \n",
    "    \n",
    "    `raw <- as.data.frame(lapply(raw, function(x) gsub('\"', \"\", x)))`\n",
    "\n",
    "\n",
    "* Select all the categorical variables\n",
    "\n",
    "    `initialdf <- subset(raw, select = c(1,6:13))`\n",
    "    \n",
    "\n",
    "* Transform all the categories to individual columns \n",
    "\n",
    "<img src=\"./Data/DataViewfromR.JPG\", width=1000>\n",
    "\n",
    "<div class=\"alert alert-success\">\n",
    "Create another list without the first column. Using apply loop to get the sequence of maximum value in all the rows and convert it to integer \n",
    "</div>  \n",
    "\n",
    "    seqlist <- apply(initialdf[-1], 1, function(x) as.integer(seq_len(max(x, na.rm = TRUE)) %in% x))\n",
    "<div class=\"alert alert-success\">\n",
    "Append NAs at the end of each row to make the lengths same in the list and combine back with the first column \n",
    "</div> \n",
    "\n",
    "    replacelist <- cbind(initialdf[1], do.call(rbind, lapply(seqlist, `length<-`, max(lengths(seqlist)))))\n",
    "\n",
    "<div class=\"alert alert-success\">\n",
    "Replace NAs with 0 \n",
    "</div> \n",
    "\n",
    "    replacelist[is.na(replacelist)] <- 0\n",
    "\n",
    "<div class=\"alert alert-success\">\n",
    "Rename the newly created columns to v1 (for category=1), v2 (for category=2), v55 (for category=55) etc.\n",
    "</div> \n",
    "\n",
    "    colnames(replacelist)[-1] <- paste0('v', 1:99)\n",
    "\n",
    "<div class=\"alert alert-success\">\n",
    "Remove columns without any categories\n",
    "</div> \n",
    "    \n",
    "    removedf <- replacelist[, colSums(replacelist != 0) > 0]\n",
    "    \n",
    "#### Merge transform data to original dataset Data to CSV\n",
    "    merged <- join(raw, removedf, by=\"id\")\n",
    "\n",
    "#### Export Data to CSV\n",
    "\n",
    "    write.table(merged, \"final.csv\", sep=\",\" ,row.names = FALSE, quote = TRUE)"
   ]
  },
  {
   "cell_type": "markdown",
   "metadata": {},
   "source": [
    "### Data Exploration Using Python "
   ]
  },
  {
   "cell_type": "markdown",
   "metadata": {},
   "source": [
    "#### Library"
   ]
  },
  {
   "cell_type": "code",
   "execution_count": 1,
   "metadata": {},
   "outputs": [],
   "source": [
    "import pandas as pd\n",
    "import re\n",
    "import numpy as np\n",
    "from nltk.corpus import stopwords \n",
    "from nltk.stem import WordNetLemmatizer, PorterStemmer\n",
    "from sklearn.utils import resample\n",
    "from sklearn.feature_extraction.text import CountVectorizer\n",
    "from sklearn.feature_extraction.text import TfidfTransformer\n",
    "from sklearn.pipeline import Pipeline\n",
    "from sklearn.model_selection import cross_val_score\n",
    "from sklearn.model_selection import GridSearchCV\n",
    "from sklearn.model_selection import train_test_split\n",
    "import matplotlib.pyplot as plt\n",
    "%matplotlib inline  "
   ]
  },
  {
   "cell_type": "code",
   "execution_count": 2,
   "metadata": {},
   "outputs": [],
   "source": [
    "from sklearn.metrics import accuracy_score\n",
    "from sklearn.metrics import roc_auc_score\n",
    "from sklearn.metrics import classification_report\n",
    "from sklearn.metrics import confusion_matrix\n",
    "from sklearn.metrics import roc_curve, auc"
   ]
  },
  {
   "cell_type": "markdown",
   "metadata": {},
   "source": [
    " #### Load Data from CSV"
   ]
  },
  {
   "cell_type": "code",
   "execution_count": 3,
   "metadata": {},
   "outputs": [],
   "source": [
    "data = pd.read_csv('./Data/final.csv',sep=',')"
   ]
  },
  {
   "cell_type": "markdown",
   "metadata": {},
   "source": [
    "#### Data Exploratory"
   ]
  },
  {
   "cell_type": "code",
   "execution_count": 4,
   "metadata": {},
   "outputs": [
    {
     "data": {
      "text/html": [
       "<div>\n",
       "<style>\n",
       "    .dataframe thead tr:only-child th {\n",
       "        text-align: right;\n",
       "    }\n",
       "\n",
       "    .dataframe thead th {\n",
       "        text-align: left;\n",
       "    }\n",
       "\n",
       "    .dataframe tbody tr th {\n",
       "        vertical-align: top;\n",
       "    }\n",
       "</style>\n",
       "<table border=\"1\" class=\"dataframe\">\n",
       "  <thead>\n",
       "    <tr style=\"text-align: right;\">\n",
       "      <th></th>\n",
       "      <th>id</th>\n",
       "      <th>QUARTER</th>\n",
       "      <th>VisitedDealer</th>\n",
       "      <th>OtherDealerSatisfaction</th>\n",
       "      <th>Verbatim</th>\n",
       "      <th>C1</th>\n",
       "      <th>C2</th>\n",
       "      <th>C3</th>\n",
       "      <th>C4</th>\n",
       "      <th>C5</th>\n",
       "      <th>...</th>\n",
       "      <th>v64</th>\n",
       "      <th>v65</th>\n",
       "      <th>v70</th>\n",
       "      <th>v71</th>\n",
       "      <th>v72</th>\n",
       "      <th>v73</th>\n",
       "      <th>v80</th>\n",
       "      <th>v81</th>\n",
       "      <th>v90</th>\n",
       "      <th>v97</th>\n",
       "    </tr>\n",
       "  </thead>\n",
       "  <tbody>\n",
       "    <tr>\n",
       "      <th>0</th>\n",
       "      <td>4</td>\n",
       "      <td>1</td>\n",
       "      <td>33</td>\n",
       "      <td>7</td>\n",
       "      <td>dodgy sales guy</td>\n",
       "      <td>60</td>\n",
       "      <td>NaN</td>\n",
       "      <td>NaN</td>\n",
       "      <td>NaN</td>\n",
       "      <td>NaN</td>\n",
       "      <td>...</td>\n",
       "      <td>0</td>\n",
       "      <td>0</td>\n",
       "      <td>0</td>\n",
       "      <td>0</td>\n",
       "      <td>0</td>\n",
       "      <td>0</td>\n",
       "      <td>0</td>\n",
       "      <td>0</td>\n",
       "      <td>0</td>\n",
       "      <td>0</td>\n",
       "    </tr>\n",
       "    <tr>\n",
       "      <th>1</th>\n",
       "      <td>5</td>\n",
       "      <td>1</td>\n",
       "      <td>23</td>\n",
       "      <td>9</td>\n",
       "      <td>Good experience with them but they do not offe...</td>\n",
       "      <td>63</td>\n",
       "      <td>NaN</td>\n",
       "      <td>NaN</td>\n",
       "      <td>NaN</td>\n",
       "      <td>NaN</td>\n",
       "      <td>...</td>\n",
       "      <td>0</td>\n",
       "      <td>0</td>\n",
       "      <td>0</td>\n",
       "      <td>0</td>\n",
       "      <td>0</td>\n",
       "      <td>0</td>\n",
       "      <td>0</td>\n",
       "      <td>0</td>\n",
       "      <td>0</td>\n",
       "      <td>0</td>\n",
       "    </tr>\n",
       "    <tr>\n",
       "      <th>2</th>\n",
       "      <td>7</td>\n",
       "      <td>1</td>\n",
       "      <td>60</td>\n",
       "      <td>9</td>\n",
       "      <td>The sales person wasn`t very helpful in meetin...</td>\n",
       "      <td>48</td>\n",
       "      <td>NaN</td>\n",
       "      <td>NaN</td>\n",
       "      <td>NaN</td>\n",
       "      <td>NaN</td>\n",
       "      <td>...</td>\n",
       "      <td>0</td>\n",
       "      <td>0</td>\n",
       "      <td>0</td>\n",
       "      <td>0</td>\n",
       "      <td>0</td>\n",
       "      <td>0</td>\n",
       "      <td>0</td>\n",
       "      <td>0</td>\n",
       "      <td>0</td>\n",
       "      <td>0</td>\n",
       "    </tr>\n",
       "    <tr>\n",
       "      <th>3</th>\n",
       "      <td>10</td>\n",
       "      <td>1</td>\n",
       "      <td>46</td>\n",
       "      <td>8</td>\n",
       "      <td>Friendly and knowledgeable staff, just ended u...</td>\n",
       "      <td>1</td>\n",
       "      <td>4.0</td>\n",
       "      <td>NaN</td>\n",
       "      <td>NaN</td>\n",
       "      <td>NaN</td>\n",
       "      <td>...</td>\n",
       "      <td>0</td>\n",
       "      <td>0</td>\n",
       "      <td>0</td>\n",
       "      <td>0</td>\n",
       "      <td>0</td>\n",
       "      <td>0</td>\n",
       "      <td>0</td>\n",
       "      <td>0</td>\n",
       "      <td>0</td>\n",
       "      <td>0</td>\n",
       "    </tr>\n",
       "    <tr>\n",
       "      <th>4</th>\n",
       "      <td>11</td>\n",
       "      <td>1</td>\n",
       "      <td>23</td>\n",
       "      <td>8</td>\n",
       "      <td>Helpful</td>\n",
       "      <td>2</td>\n",
       "      <td>NaN</td>\n",
       "      <td>NaN</td>\n",
       "      <td>NaN</td>\n",
       "      <td>NaN</td>\n",
       "      <td>...</td>\n",
       "      <td>0</td>\n",
       "      <td>0</td>\n",
       "      <td>0</td>\n",
       "      <td>0</td>\n",
       "      <td>0</td>\n",
       "      <td>0</td>\n",
       "      <td>0</td>\n",
       "      <td>0</td>\n",
       "      <td>0</td>\n",
       "      <td>0</td>\n",
       "    </tr>\n",
       "    <tr>\n",
       "      <th>5</th>\n",
       "      <td>13</td>\n",
       "      <td>1</td>\n",
       "      <td>22</td>\n",
       "      <td>10</td>\n",
       "      <td>All staff and service were excellent</td>\n",
       "      <td>32</td>\n",
       "      <td>NaN</td>\n",
       "      <td>NaN</td>\n",
       "      <td>NaN</td>\n",
       "      <td>NaN</td>\n",
       "      <td>...</td>\n",
       "      <td>0</td>\n",
       "      <td>0</td>\n",
       "      <td>0</td>\n",
       "      <td>0</td>\n",
       "      <td>0</td>\n",
       "      <td>0</td>\n",
       "      <td>0</td>\n",
       "      <td>0</td>\n",
       "      <td>0</td>\n",
       "      <td>0</td>\n",
       "    </tr>\n",
       "    <tr>\n",
       "      <th>6</th>\n",
       "      <td>14</td>\n",
       "      <td>1</td>\n",
       "      <td>46</td>\n",
       "      <td>10</td>\n",
       "      <td>Salesperson was friendly, went above &amp; beyond ...</td>\n",
       "      <td>1</td>\n",
       "      <td>5.0</td>\n",
       "      <td>NaN</td>\n",
       "      <td>NaN</td>\n",
       "      <td>NaN</td>\n",
       "      <td>...</td>\n",
       "      <td>0</td>\n",
       "      <td>0</td>\n",
       "      <td>0</td>\n",
       "      <td>0</td>\n",
       "      <td>0</td>\n",
       "      <td>0</td>\n",
       "      <td>0</td>\n",
       "      <td>0</td>\n",
       "      <td>0</td>\n",
       "      <td>0</td>\n",
       "    </tr>\n",
       "    <tr>\n",
       "      <th>7</th>\n",
       "      <td>16</td>\n",
       "      <td>1</td>\n",
       "      <td>23</td>\n",
       "      <td>1</td>\n",
       "      <td>Not happy</td>\n",
       "      <td>81</td>\n",
       "      <td>NaN</td>\n",
       "      <td>NaN</td>\n",
       "      <td>NaN</td>\n",
       "      <td>NaN</td>\n",
       "      <td>...</td>\n",
       "      <td>0</td>\n",
       "      <td>0</td>\n",
       "      <td>0</td>\n",
       "      <td>0</td>\n",
       "      <td>0</td>\n",
       "      <td>0</td>\n",
       "      <td>0</td>\n",
       "      <td>1</td>\n",
       "      <td>0</td>\n",
       "      <td>0</td>\n",
       "    </tr>\n",
       "    <tr>\n",
       "      <th>8</th>\n",
       "      <td>17</td>\n",
       "      <td>1</td>\n",
       "      <td>33</td>\n",
       "      <td>10</td>\n",
       "      <td>Very well appointed showroom,  very friendly t...</td>\n",
       "      <td>26</td>\n",
       "      <td>1.0</td>\n",
       "      <td>16.0</td>\n",
       "      <td>NaN</td>\n",
       "      <td>NaN</td>\n",
       "      <td>...</td>\n",
       "      <td>0</td>\n",
       "      <td>0</td>\n",
       "      <td>0</td>\n",
       "      <td>0</td>\n",
       "      <td>0</td>\n",
       "      <td>0</td>\n",
       "      <td>0</td>\n",
       "      <td>0</td>\n",
       "      <td>0</td>\n",
       "      <td>0</td>\n",
       "    </tr>\n",
       "    <tr>\n",
       "      <th>9</th>\n",
       "      <td>19</td>\n",
       "      <td>1</td>\n",
       "      <td>40</td>\n",
       "      <td>6</td>\n",
       "      <td>They were ok</td>\n",
       "      <td>32</td>\n",
       "      <td>NaN</td>\n",
       "      <td>NaN</td>\n",
       "      <td>NaN</td>\n",
       "      <td>NaN</td>\n",
       "      <td>...</td>\n",
       "      <td>0</td>\n",
       "      <td>0</td>\n",
       "      <td>0</td>\n",
       "      <td>0</td>\n",
       "      <td>0</td>\n",
       "      <td>0</td>\n",
       "      <td>0</td>\n",
       "      <td>0</td>\n",
       "      <td>0</td>\n",
       "      <td>0</td>\n",
       "    </tr>\n",
       "  </tbody>\n",
       "</table>\n",
       "<p>10 rows × 62 columns</p>\n",
       "</div>"
      ],
      "text/plain": [
       "   id  QUARTER  VisitedDealer  OtherDealerSatisfaction  \\\n",
       "0   4        1             33                        7   \n",
       "1   5        1             23                        9   \n",
       "2   7        1             60                        9   \n",
       "3  10        1             46                        8   \n",
       "4  11        1             23                        8   \n",
       "5  13        1             22                       10   \n",
       "6  14        1             46                       10   \n",
       "7  16        1             23                        1   \n",
       "8  17        1             33                       10   \n",
       "9  19        1             40                        6   \n",
       "\n",
       "                                            Verbatim  C1   C2    C3  C4  C5  \\\n",
       "0                                    dodgy sales guy  60  NaN   NaN NaN NaN   \n",
       "1  Good experience with them but they do not offe...  63  NaN   NaN NaN NaN   \n",
       "2  The sales person wasn`t very helpful in meetin...  48  NaN   NaN NaN NaN   \n",
       "3  Friendly and knowledgeable staff, just ended u...   1  4.0   NaN NaN NaN   \n",
       "4                                            Helpful   2  NaN   NaN NaN NaN   \n",
       "5               All staff and service were excellent  32  NaN   NaN NaN NaN   \n",
       "6  Salesperson was friendly, went above & beyond ...   1  5.0   NaN NaN NaN   \n",
       "7                                          Not happy  81  NaN   NaN NaN NaN   \n",
       "8  Very well appointed showroom,  very friendly t...  26  1.0  16.0 NaN NaN   \n",
       "9                                       They were ok  32  NaN   NaN NaN NaN   \n",
       "\n",
       "  ...   v64  v65  v70  v71  v72  v73  v80  v81  v90  v97  \n",
       "0 ...     0    0    0    0    0    0    0    0    0    0  \n",
       "1 ...     0    0    0    0    0    0    0    0    0    0  \n",
       "2 ...     0    0    0    0    0    0    0    0    0    0  \n",
       "3 ...     0    0    0    0    0    0    0    0    0    0  \n",
       "4 ...     0    0    0    0    0    0    0    0    0    0  \n",
       "5 ...     0    0    0    0    0    0    0    0    0    0  \n",
       "6 ...     0    0    0    0    0    0    0    0    0    0  \n",
       "7 ...     0    0    0    0    0    0    0    1    0    0  \n",
       "8 ...     0    0    0    0    0    0    0    0    0    0  \n",
       "9 ...     0    0    0    0    0    0    0    0    0    0  \n",
       "\n",
       "[10 rows x 62 columns]"
      ]
     },
     "execution_count": 4,
     "metadata": {},
     "output_type": "execute_result"
    }
   ],
   "source": [
    "#to view first 10 rows of data\n",
    "data.head(10)\n",
    "#We can see that all the categories (v1 to v97) are binary variables (with class=0 or =1)"
   ]
  },
  {
   "cell_type": "code",
   "execution_count": 5,
   "metadata": {},
   "outputs": [
    {
     "name": "stdout",
     "output_type": "stream",
     "text": [
      "<class 'pandas.core.frame.DataFrame'>\n",
      "RangeIndex: 45403 entries, 0 to 45402\n",
      "Data columns (total 62 columns):\n",
      "id                         45403 non-null int64\n",
      "QUARTER                    45403 non-null int64\n",
      "VisitedDealer              45403 non-null int64\n",
      "OtherDealerSatisfaction    45403 non-null int64\n",
      "Verbatim                   45403 non-null object\n",
      "C1                         45403 non-null int64\n",
      "C2                         16688 non-null float64\n",
      "C3                         4482 non-null float64\n",
      "C4                         882 non-null float64\n",
      "C5                         177 non-null float64\n",
      "C6                         29 non-null float64\n",
      "C7                         6 non-null float64\n",
      "C8                         2 non-null float64\n",
      "v1                         45403 non-null int64\n",
      "v2                         45403 non-null int64\n",
      "v3                         45403 non-null int64\n",
      "v4                         45403 non-null int64\n",
      "v5                         45403 non-null int64\n",
      "v6                         45403 non-null int64\n",
      "v7                         45403 non-null int64\n",
      "v8                         45403 non-null int64\n",
      "v9                         45403 non-null int64\n",
      "v10                        45403 non-null int64\n",
      "v15                        45403 non-null int64\n",
      "v16                        45403 non-null int64\n",
      "v17                        45403 non-null int64\n",
      "v18                        45403 non-null int64\n",
      "v25                        45403 non-null int64\n",
      "v26                        45403 non-null int64\n",
      "v27                        45403 non-null int64\n",
      "v28                        45403 non-null int64\n",
      "v30                        45403 non-null int64\n",
      "v31                        45403 non-null int64\n",
      "v32                        45403 non-null int64\n",
      "v33                        45403 non-null int64\n",
      "v40                        45403 non-null int64\n",
      "v41                        45403 non-null int64\n",
      "v42                        45403 non-null int64\n",
      "v43                        45403 non-null int64\n",
      "v44                        45403 non-null int64\n",
      "v45                        45403 non-null int64\n",
      "v46                        45403 non-null int64\n",
      "v47                        45403 non-null int64\n",
      "v48                        45403 non-null int64\n",
      "v49                        45403 non-null int64\n",
      "v50                        45403 non-null int64\n",
      "v51                        45403 non-null int64\n",
      "v52                        45403 non-null int64\n",
      "v60                        45403 non-null int64\n",
      "v61                        45403 non-null int64\n",
      "v62                        45403 non-null int64\n",
      "v63                        45403 non-null int64\n",
      "v64                        45403 non-null int64\n",
      "v65                        45403 non-null int64\n",
      "v70                        45403 non-null int64\n",
      "v71                        45403 non-null int64\n",
      "v72                        45403 non-null int64\n",
      "v73                        45403 non-null int64\n",
      "v80                        45403 non-null int64\n",
      "v81                        45403 non-null int64\n",
      "v90                        45403 non-null int64\n",
      "v97                        45403 non-null int64\n",
      "dtypes: float64(7), int64(54), object(1)\n",
      "memory usage: 21.5+ MB\n"
     ]
    }
   ],
   "source": [
    "#to list down all the information about dataset\n",
    "data.info()"
   ]
  },
  {
   "cell_type": "code",
   "execution_count": 6,
   "metadata": {},
   "outputs": [],
   "source": [
    "#to  create another new text variable for verbatim and change the type to string\n",
    "data['text'] = data['Verbatim'].astype(str)"
   ]
  },
  {
   "cell_type": "markdown",
   "metadata": {},
   "source": [
    "### How to \"pre-process\" texts / words?\n",
    "\n",
    "* Remove all the numeric values from the texts\n",
    "* Convert all the texts to lowercase\n",
    "* Normalise the word to base form\n",
    "    \n",
    "    `PorterStemmer() WordNetLemmatizer()`\n",
    "<div class=\"alert alert-success\">  \n",
    "Lemmatization and stemming are special cases of normalization. \n",
    "The goal of both stemming and lemmatization is to identify a canonical representative for a set of related word forms to a common base form. \n",
    "</div> \n",
    "<div class=\"alert alert-success\">  \n",
    "Stemmer operates on a single word without knowledge of the context , and therefore cannot discriminate between words which have different meanings depending on part of speech.\n",
    "Lemmatization usually refers to doing things properly with the use of a vocabulary and morphological analysis of words.\n",
    "<br>\n",
    "E.g. <br>\n",
    "The word \"better\" has \"good\" as its lemma. This link is missed by stemming, as it requires a dictionary look-up.\n",
    "<br>\n",
    "The word \"walk\" is the base form for word \"walking/waits/waited\", and hence this is matched in both stemming and lemmatisation.\n",
    "</div> \n",
    "\n",
    "\n",
    "* Count the occurrence of each word \n",
    "\n",
    "    `CountVectorizer=() TfidfVectorizer()`\n",
    "<div class=\"alert alert-success\">\n",
    "Texts / Comments are a series of words. In order to run machine learning algorithms,  we need to convert all the texts into into numerical feature vectors. We will have to segment each word respectively (splitting by space) and then count number of times each word occurs, and finally assign each word to an unique integer id. Each unique word will correspond to a feature.  (descriptive feature).\n",
    "</div> \n",
    "<div class=\"alert alert-success\">\n",
    "Using CountVectorizer from Scikit-learn will help to convert all words to matrix and count the count number of times each word occurs. TfidfVectorizer will assign different weights to every single word (most frequent word will have lower weight while less frequent word will have higher weight due to the relevancy / importance)\n",
    "</div>  \n",
    "\n",
    "\n",
    "* To filter out useless data \n",
    "\n",
    "    `stopwords.words()`\n",
    "<div class=\"alert alert-success\">  \n",
    "A stop word is a commonly used word (such as “the”, “a”, “an”, “in”) that will be filtered from the text to process accordingly.\n",
    "We do not want these words to take up the processing time and memory when running a model. "
   ]
  },
  {
   "cell_type": "code",
   "execution_count": 7,
   "metadata": {},
   "outputs": [],
   "source": [
    "#Remove all the numeric values from the texts\n",
    "#Convert all the texts to lowercase\n",
    "data['cleaned0'] = data['text'].apply(lambda x: \" \".join([i for i in re.sub(\"[^a-zA-Z]\",\" \",x).split()]).lower())\n",
    "#Normalise the word to base form\n",
    "porter = PorterStemmer()\n",
    "wnl = WordNetLemmatizer()\n",
    "data['cleaned'] = data['cleaned0'].apply(lambda i: wnl.lemmatize(i) if wnl.lemmatize(i).endswith('e') else porter.stem(i))"
   ]
  },
  {
   "cell_type": "code",
   "execution_count": 8,
   "metadata": {},
   "outputs": [
    {
     "data": {
      "text/html": [
       "<div>\n",
       "<style>\n",
       "    .dataframe thead tr:only-child th {\n",
       "        text-align: right;\n",
       "    }\n",
       "\n",
       "    .dataframe thead th {\n",
       "        text-align: left;\n",
       "    }\n",
       "\n",
       "    .dataframe tbody tr th {\n",
       "        vertical-align: top;\n",
       "    }\n",
       "</style>\n",
       "<table border=\"1\" class=\"dataframe\">\n",
       "  <thead>\n",
       "    <tr style=\"text-align: right;\">\n",
       "      <th></th>\n",
       "      <th>id</th>\n",
       "      <th>QUARTER</th>\n",
       "      <th>VisitedDealer</th>\n",
       "      <th>OtherDealerSatisfaction</th>\n",
       "      <th>Verbatim</th>\n",
       "      <th>C1</th>\n",
       "      <th>C2</th>\n",
       "      <th>C3</th>\n",
       "      <th>C4</th>\n",
       "      <th>C5</th>\n",
       "      <th>...</th>\n",
       "      <th>v71</th>\n",
       "      <th>v72</th>\n",
       "      <th>v73</th>\n",
       "      <th>v80</th>\n",
       "      <th>v81</th>\n",
       "      <th>v90</th>\n",
       "      <th>v97</th>\n",
       "      <th>text</th>\n",
       "      <th>cleaned0</th>\n",
       "      <th>cleaned</th>\n",
       "    </tr>\n",
       "  </thead>\n",
       "  <tbody>\n",
       "    <tr>\n",
       "      <th>45393</th>\n",
       "      <td>93087</td>\n",
       "      <td>4</td>\n",
       "      <td>40</td>\n",
       "      <td>10</td>\n",
       "      <td>They were helpful and friendly.</td>\n",
       "      <td>2</td>\n",
       "      <td>1.0</td>\n",
       "      <td>NaN</td>\n",
       "      <td>NaN</td>\n",
       "      <td>NaN</td>\n",
       "      <td>...</td>\n",
       "      <td>0</td>\n",
       "      <td>0</td>\n",
       "      <td>0</td>\n",
       "      <td>0</td>\n",
       "      <td>0</td>\n",
       "      <td>0</td>\n",
       "      <td>0</td>\n",
       "      <td>They were helpful and friendly.</td>\n",
       "      <td>they were helpful and friendly</td>\n",
       "      <td>they were helpful and friendli</td>\n",
       "    </tr>\n",
       "    <tr>\n",
       "      <th>45394</th>\n",
       "      <td>93089</td>\n",
       "      <td>4</td>\n",
       "      <td>23</td>\n",
       "      <td>8</td>\n",
       "      <td>It was not easy to take a test drive.</td>\n",
       "      <td>61</td>\n",
       "      <td>NaN</td>\n",
       "      <td>NaN</td>\n",
       "      <td>NaN</td>\n",
       "      <td>NaN</td>\n",
       "      <td>...</td>\n",
       "      <td>0</td>\n",
       "      <td>0</td>\n",
       "      <td>0</td>\n",
       "      <td>0</td>\n",
       "      <td>0</td>\n",
       "      <td>0</td>\n",
       "      <td>0</td>\n",
       "      <td>It was not easy to take a test drive.</td>\n",
       "      <td>it was not easy to take a test drive</td>\n",
       "      <td>it was not easy to take a test drive</td>\n",
       "    </tr>\n",
       "    <tr>\n",
       "      <th>45395</th>\n",
       "      <td>93090</td>\n",
       "      <td>4</td>\n",
       "      <td>37</td>\n",
       "      <td>9</td>\n",
       "      <td>Sales man very keen to sell me the car and exp...</td>\n",
       "      <td>5</td>\n",
       "      <td>3.0</td>\n",
       "      <td>NaN</td>\n",
       "      <td>NaN</td>\n",
       "      <td>NaN</td>\n",
       "      <td>...</td>\n",
       "      <td>0</td>\n",
       "      <td>0</td>\n",
       "      <td>0</td>\n",
       "      <td>0</td>\n",
       "      <td>0</td>\n",
       "      <td>0</td>\n",
       "      <td>0</td>\n",
       "      <td>Sales man very keen to sell me the car and exp...</td>\n",
       "      <td>sales man very keen to sell me the car and exp...</td>\n",
       "      <td>sales man very keen to sell me the car and exp...</td>\n",
       "    </tr>\n",
       "    <tr>\n",
       "      <th>45396</th>\n",
       "      <td>93091</td>\n",
       "      <td>4</td>\n",
       "      <td>28</td>\n",
       "      <td>10</td>\n",
       "      <td>i own one already</td>\n",
       "      <td>31</td>\n",
       "      <td>NaN</td>\n",
       "      <td>NaN</td>\n",
       "      <td>NaN</td>\n",
       "      <td>NaN</td>\n",
       "      <td>...</td>\n",
       "      <td>0</td>\n",
       "      <td>0</td>\n",
       "      <td>0</td>\n",
       "      <td>0</td>\n",
       "      <td>0</td>\n",
       "      <td>0</td>\n",
       "      <td>0</td>\n",
       "      <td>i own one already</td>\n",
       "      <td>i own one already</td>\n",
       "      <td>i own one alreadi</td>\n",
       "    </tr>\n",
       "    <tr>\n",
       "      <th>45397</th>\n",
       "      <td>93092</td>\n",
       "      <td>4</td>\n",
       "      <td>26</td>\n",
       "      <td>6</td>\n",
       "      <td>I wasn`t happy with dealer.</td>\n",
       "      <td>60</td>\n",
       "      <td>NaN</td>\n",
       "      <td>NaN</td>\n",
       "      <td>NaN</td>\n",
       "      <td>NaN</td>\n",
       "      <td>...</td>\n",
       "      <td>0</td>\n",
       "      <td>0</td>\n",
       "      <td>0</td>\n",
       "      <td>0</td>\n",
       "      <td>0</td>\n",
       "      <td>0</td>\n",
       "      <td>0</td>\n",
       "      <td>I wasn`t happy with dealer.</td>\n",
       "      <td>i wasn t happy with dealer</td>\n",
       "      <td>i wasn t happy with deal</td>\n",
       "    </tr>\n",
       "    <tr>\n",
       "      <th>45398</th>\n",
       "      <td>93094</td>\n",
       "      <td>4</td>\n",
       "      <td>23</td>\n",
       "      <td>4</td>\n",
       "      <td>The salesperson was very pushy and said he was...</td>\n",
       "      <td>51</td>\n",
       "      <td>NaN</td>\n",
       "      <td>NaN</td>\n",
       "      <td>NaN</td>\n",
       "      <td>NaN</td>\n",
       "      <td>...</td>\n",
       "      <td>0</td>\n",
       "      <td>0</td>\n",
       "      <td>0</td>\n",
       "      <td>0</td>\n",
       "      <td>0</td>\n",
       "      <td>0</td>\n",
       "      <td>0</td>\n",
       "      <td>The salesperson was very pushy and said he was...</td>\n",
       "      <td>the salesperson was very pushy and said he was...</td>\n",
       "      <td>the salesperson was very pushy and said he was...</td>\n",
       "    </tr>\n",
       "    <tr>\n",
       "      <th>45399</th>\n",
       "      <td>93095</td>\n",
       "      <td>4</td>\n",
       "      <td>40</td>\n",
       "      <td>8</td>\n",
       "      <td>Not as knowledgeable about the vehicle.</td>\n",
       "      <td>43</td>\n",
       "      <td>NaN</td>\n",
       "      <td>NaN</td>\n",
       "      <td>NaN</td>\n",
       "      <td>NaN</td>\n",
       "      <td>...</td>\n",
       "      <td>0</td>\n",
       "      <td>0</td>\n",
       "      <td>0</td>\n",
       "      <td>0</td>\n",
       "      <td>0</td>\n",
       "      <td>0</td>\n",
       "      <td>0</td>\n",
       "      <td>Not as knowledgeable about the vehicle.</td>\n",
       "      <td>not as knowledgeable about the vehicle</td>\n",
       "      <td>not as knowledgeable about the vehicle</td>\n",
       "    </tr>\n",
       "    <tr>\n",
       "      <th>45400</th>\n",
       "      <td>93097</td>\n",
       "      <td>4</td>\n",
       "      <td>46</td>\n",
       "      <td>10</td>\n",
       "      <td>did not try to oversell or be pushey and gave ...</td>\n",
       "      <td>7</td>\n",
       "      <td>16.0</td>\n",
       "      <td>NaN</td>\n",
       "      <td>NaN</td>\n",
       "      <td>NaN</td>\n",
       "      <td>...</td>\n",
       "      <td>0</td>\n",
       "      <td>0</td>\n",
       "      <td>0</td>\n",
       "      <td>0</td>\n",
       "      <td>0</td>\n",
       "      <td>0</td>\n",
       "      <td>0</td>\n",
       "      <td>did not try to oversell or be pushey and gave ...</td>\n",
       "      <td>did not try to oversell or be pushey and gave ...</td>\n",
       "      <td>did not try to oversell or be pushey and gave ...</td>\n",
       "    </tr>\n",
       "    <tr>\n",
       "      <th>45401</th>\n",
       "      <td>93108</td>\n",
       "      <td>4</td>\n",
       "      <td>5</td>\n",
       "      <td>7</td>\n",
       "      <td>It took a while to be acknowledged</td>\n",
       "      <td>45</td>\n",
       "      <td>NaN</td>\n",
       "      <td>NaN</td>\n",
       "      <td>NaN</td>\n",
       "      <td>NaN</td>\n",
       "      <td>...</td>\n",
       "      <td>0</td>\n",
       "      <td>0</td>\n",
       "      <td>0</td>\n",
       "      <td>0</td>\n",
       "      <td>0</td>\n",
       "      <td>0</td>\n",
       "      <td>0</td>\n",
       "      <td>It took a while to be acknowledged</td>\n",
       "      <td>it took a while to be acknowledged</td>\n",
       "      <td>it took a while to be acknowledg</td>\n",
       "    </tr>\n",
       "    <tr>\n",
       "      <th>45402</th>\n",
       "      <td>93111</td>\n",
       "      <td>4</td>\n",
       "      <td>42</td>\n",
       "      <td>5</td>\n",
       "      <td>While the dealer was polite and knowledgeable,...</td>\n",
       "      <td>52</td>\n",
       "      <td>NaN</td>\n",
       "      <td>NaN</td>\n",
       "      <td>NaN</td>\n",
       "      <td>NaN</td>\n",
       "      <td>...</td>\n",
       "      <td>0</td>\n",
       "      <td>0</td>\n",
       "      <td>0</td>\n",
       "      <td>0</td>\n",
       "      <td>0</td>\n",
       "      <td>0</td>\n",
       "      <td>0</td>\n",
       "      <td>While the dealer was polite and knowledgeable,...</td>\n",
       "      <td>while the dealer was polite and knowledgeable ...</td>\n",
       "      <td>while the dealer was polite and knowledgeable ...</td>\n",
       "    </tr>\n",
       "  </tbody>\n",
       "</table>\n",
       "<p>10 rows × 65 columns</p>\n",
       "</div>"
      ],
      "text/plain": [
       "          id  QUARTER  VisitedDealer  OtherDealerSatisfaction  \\\n",
       "45393  93087        4             40                       10   \n",
       "45394  93089        4             23                        8   \n",
       "45395  93090        4             37                        9   \n",
       "45396  93091        4             28                       10   \n",
       "45397  93092        4             26                        6   \n",
       "45398  93094        4             23                        4   \n",
       "45399  93095        4             40                        8   \n",
       "45400  93097        4             46                       10   \n",
       "45401  93108        4              5                        7   \n",
       "45402  93111        4             42                        5   \n",
       "\n",
       "                                                Verbatim  C1    C2  C3  C4  \\\n",
       "45393                    They were helpful and friendly.   2   1.0 NaN NaN   \n",
       "45394              It was not easy to take a test drive.  61   NaN NaN NaN   \n",
       "45395  Sales man very keen to sell me the car and exp...   5   3.0 NaN NaN   \n",
       "45396                                  i own one already  31   NaN NaN NaN   \n",
       "45397                        I wasn`t happy with dealer.  60   NaN NaN NaN   \n",
       "45398  The salesperson was very pushy and said he was...  51   NaN NaN NaN   \n",
       "45399            Not as knowledgeable about the vehicle.  43   NaN NaN NaN   \n",
       "45400  did not try to oversell or be pushey and gave ...   7  16.0 NaN NaN   \n",
       "45401                 It took a while to be acknowledged  45   NaN NaN NaN   \n",
       "45402  While the dealer was polite and knowledgeable,...  52   NaN NaN NaN   \n",
       "\n",
       "       C5                        ...                          v71  v72  v73  \\\n",
       "45393 NaN                        ...                            0    0    0   \n",
       "45394 NaN                        ...                            0    0    0   \n",
       "45395 NaN                        ...                            0    0    0   \n",
       "45396 NaN                        ...                            0    0    0   \n",
       "45397 NaN                        ...                            0    0    0   \n",
       "45398 NaN                        ...                            0    0    0   \n",
       "45399 NaN                        ...                            0    0    0   \n",
       "45400 NaN                        ...                            0    0    0   \n",
       "45401 NaN                        ...                            0    0    0   \n",
       "45402 NaN                        ...                            0    0    0   \n",
       "\n",
       "       v80  v81  v90  v97                                               text  \\\n",
       "45393    0    0    0    0                    They were helpful and friendly.   \n",
       "45394    0    0    0    0              It was not easy to take a test drive.   \n",
       "45395    0    0    0    0  Sales man very keen to sell me the car and exp...   \n",
       "45396    0    0    0    0                                  i own one already   \n",
       "45397    0    0    0    0                        I wasn`t happy with dealer.   \n",
       "45398    0    0    0    0  The salesperson was very pushy and said he was...   \n",
       "45399    0    0    0    0            Not as knowledgeable about the vehicle.   \n",
       "45400    0    0    0    0  did not try to oversell or be pushey and gave ...   \n",
       "45401    0    0    0    0                 It took a while to be acknowledged   \n",
       "45402    0    0    0    0  While the dealer was polite and knowledgeable,...   \n",
       "\n",
       "                                                cleaned0  \\\n",
       "45393                     they were helpful and friendly   \n",
       "45394               it was not easy to take a test drive   \n",
       "45395  sales man very keen to sell me the car and exp...   \n",
       "45396                                  i own one already   \n",
       "45397                         i wasn t happy with dealer   \n",
       "45398  the salesperson was very pushy and said he was...   \n",
       "45399             not as knowledgeable about the vehicle   \n",
       "45400  did not try to oversell or be pushey and gave ...   \n",
       "45401                 it took a while to be acknowledged   \n",
       "45402  while the dealer was polite and knowledgeable ...   \n",
       "\n",
       "                                                 cleaned  \n",
       "45393                     they were helpful and friendli  \n",
       "45394               it was not easy to take a test drive  \n",
       "45395  sales man very keen to sell me the car and exp...  \n",
       "45396                                  i own one alreadi  \n",
       "45397                           i wasn t happy with deal  \n",
       "45398  the salesperson was very pushy and said he was...  \n",
       "45399             not as knowledgeable about the vehicle  \n",
       "45400  did not try to oversell or be pushey and gave ...  \n",
       "45401                   it took a while to be acknowledg  \n",
       "45402  while the dealer was polite and knowledgeable ...  \n",
       "\n",
       "[10 rows x 65 columns]"
      ]
     },
     "execution_count": 8,
     "metadata": {},
     "output_type": "execute_result"
    }
   ],
   "source": [
    "data.tail(10)"
   ]
  },
  {
   "cell_type": "markdown",
   "metadata": {},
   "source": [
    "Due to lack of time, from the 49 categories, I'm going to select 2 categories (v1,v2) with positive comments and another 2 (v45,v46) with negative comments to build 4 separate models."
   ]
  },
  {
   "cell_type": "code",
   "execution_count": 9,
   "metadata": {},
   "outputs": [
    {
     "data": {
      "text/html": [
       "<div>\n",
       "<style>\n",
       "    .dataframe thead tr:only-child th {\n",
       "        text-align: right;\n",
       "    }\n",
       "\n",
       "    .dataframe thead th {\n",
       "        text-align: left;\n",
       "    }\n",
       "\n",
       "    .dataframe tbody tr th {\n",
       "        vertical-align: top;\n",
       "    }\n",
       "</style>\n",
       "<table border=\"1\" class=\"dataframe\">\n",
       "  <thead>\n",
       "    <tr style=\"text-align: right;\">\n",
       "      <th></th>\n",
       "      <th>v1</th>\n",
       "      <th>v2</th>\n",
       "      <th>v45</th>\n",
       "      <th>v46</th>\n",
       "    </tr>\n",
       "  </thead>\n",
       "  <tbody>\n",
       "    <tr>\n",
       "      <th>0</th>\n",
       "      <td>38486</td>\n",
       "      <td>40018</td>\n",
       "      <td>42946</td>\n",
       "      <td>43101</td>\n",
       "    </tr>\n",
       "    <tr>\n",
       "      <th>1</th>\n",
       "      <td>6917</td>\n",
       "      <td>5385</td>\n",
       "      <td>2457</td>\n",
       "      <td>2302</td>\n",
       "    </tr>\n",
       "  </tbody>\n",
       "</table>\n",
       "</div>"
      ],
      "text/plain": [
       "      v1     v2    v45    v46\n",
       "0  38486  40018  42946  43101\n",
       "1   6917   5385   2457   2302"
      ]
     },
     "execution_count": 9,
     "metadata": {},
     "output_type": "execute_result"
    }
   ],
   "source": [
    "#To get the summary for each category\n",
    "data[['v1','v2','v45', 'v46']].apply(pd.Series.value_counts)"
   ]
  },
  {
   "cell_type": "markdown",
   "metadata": {},
   "source": [
    "### How to deal with imbalanced dataset?\n",
    "We can see that the data has imbalanced classes which will affect the 'accuracy' of a machine learning model, thus I choose to apply **down-sampling method** by removing the observations from the majority class (class=0) to prevent the its from dominating the learning algorithm. Observations with class=0 in this case have no significant impact to the feature variable (Comment from Customer), thus in my opinion, this is the easiest and simplest way in dealing with imbalanced dataset."
   ]
  },
  {
   "cell_type": "markdown",
   "metadata": {},
   "source": [
    "## Text Classification for Model [v46]"
   ]
  },
  {
   "cell_type": "markdown",
   "metadata": {},
   "source": [
    "#### Apply train test split for data validation"
   ]
  },
  {
   "cell_type": "code",
   "execution_count": 10,
   "metadata": {},
   "outputs": [
    {
     "name": "stdout",
     "output_type": "stream",
     "text": [
      "X_train_v46 (31782,)\n",
      "y_train_v46 (31782,)\n",
      "X_test_v46 (13621,)\n",
      "y_test_v46 (13621,)\n",
      "\n",
      "\n",
      "Summary of y_train_v46\n",
      "\n",
      "\n",
      "0    30176\n",
      "1     1606\n",
      "Name: v46, dtype: int64\n",
      "\n",
      "\n",
      "Summary of y_test_v46\n",
      "\n",
      "\n",
      "0    12925\n",
      "1      696\n",
      "Name: v46, dtype: int64\n"
     ]
    }
   ],
   "source": [
    "X_train_v46, X_test_v46, y_train_v46, y_test_v46 = train_test_split(data['cleaned'], data['v46'], test_size=0.3, random_state=123)\n",
    "print('X_train_v46',X_train_v46.shape)\n",
    "print('y_train_v46',y_train_v46.shape)\n",
    "print('X_test_v46',X_test_v46.shape)\n",
    "print('y_test_v46',y_test_v46.shape)\n",
    "print(\"\\n\")\n",
    "print('Summary of y_train_v46')\n",
    "print(\"\\n\")\n",
    "print(pd.Series.value_counts(y_train_v46))\n",
    "print(\"\\n\")\n",
    "print('Summary of y_test_v46')\n",
    "print(\"\\n\")\n",
    "print(pd.Series.value_counts(y_test_v46))"
   ]
  },
  {
   "cell_type": "markdown",
   "metadata": {},
   "source": [
    "#### Apply Down-Sampling method on majority class to training dataset"
   ]
  },
  {
   "cell_type": "code",
   "execution_count": 11,
   "metadata": {},
   "outputs": [
    {
     "name": "stdout",
     "output_type": "stream",
     "text": [
      "(31782, 2)\n"
     ]
    },
    {
     "data": {
      "text/plain": [
       "0    30176\n",
       "1     1606\n",
       "Name: v46, dtype: int64"
      ]
     },
     "execution_count": 11,
     "metadata": {},
     "output_type": "execute_result"
    }
   ],
   "source": [
    "#combine X_train and y_train for resampling\n",
    "Trainingdata_downsampled = pd.concat([X_train_v46, y_train_v46], axis=1)\n",
    "print(Trainingdata_downsampled.shape)\n",
    "Trainingdata_downsampled['v46'].value_counts()"
   ]
  },
  {
   "cell_type": "code",
   "execution_count": 12,
   "metadata": {},
   "outputs": [
    {
     "name": "stdout",
     "output_type": "stream",
     "text": [
      "Trainingdata_v46_majority (30176, 2)\n",
      "Trainingdata_v46_minority (1606, 2)\n"
     ]
    }
   ],
   "source": [
    "# Separate majority and minority classes\n",
    "Trainingdata_v46_majority = Trainingdata_downsampled[Trainingdata_downsampled.v46==0]\n",
    "Trainingdata_v46_minority = Trainingdata_downsampled[Trainingdata_downsampled.v46==1]\n",
    "print('Trainingdata_v46_majority',Trainingdata_v46_majority.shape)\n",
    "print('Trainingdata_v46_minority',Trainingdata_v46_minority.shape)"
   ]
  },
  {
   "cell_type": "code",
   "execution_count": 13,
   "metadata": {},
   "outputs": [
    {
     "data": {
      "text/plain": [
       "1    1606\n",
       "0    1606\n",
       "Name: v46, dtype: int64"
      ]
     },
     "execution_count": 13,
     "metadata": {},
     "output_type": "execute_result"
    }
   ],
   "source": [
    "# Downsample majority class\n",
    "Trainingdata_v46_majority_downsampled = resample(Trainingdata_v46_majority, \n",
    "                                                replace=False,    # sample without replacement (cause we have many data to select - no need replace)\n",
    "                                                n_samples=1606,     # to match minority class\n",
    "                                                random_state=123) # reproducible results\n",
    " \n",
    "# Combine minority class with downsampled majority class\n",
    "Trainingdata_v46_downsampled = pd.concat([Trainingdata_v46_majority_downsampled, Trainingdata_v46_minority])\n",
    " \n",
    "# Display new class counts\n",
    "Trainingdata_v46_downsampled.v46.value_counts()"
   ]
  },
  {
   "cell_type": "code",
   "execution_count": 14,
   "metadata": {},
   "outputs": [
    {
     "name": "stdout",
     "output_type": "stream",
     "text": [
      "X_train_v46 (3212,)\n",
      "y_train_v46 (3212,)\n",
      "Summary of y_train_v46\n",
      "\n",
      "\n",
      "1    1606\n",
      "0    1606\n",
      "Name: v46, dtype: int64\n",
      "\n",
      "\n",
      "Summary of y_test_v46\n",
      "\n",
      "\n",
      "0    12925\n",
      "1      696\n",
      "Name: v46, dtype: int64\n"
     ]
    }
   ],
   "source": [
    "#Split training data after resampling \n",
    "X_train_v46 = Trainingdata_v46_downsampled['cleaned']\n",
    "y_train_v46 = Trainingdata_v46_downsampled['v46']\n",
    "print('X_train_v46',X_train_v46.shape)\n",
    "print('y_train_v46',y_train_v46.shape)\n",
    "\n",
    "print('Summary of y_train_v46')\n",
    "print(\"\\n\")\n",
    "print(pd.Series.value_counts(y_train_v46))\n",
    "print(\"\\n\")\n",
    "print('Summary of y_test_v46')\n",
    "print(\"\\n\")\n",
    "print(pd.Series.value_counts(y_test_v46))"
   ]
  },
  {
   "cell_type": "markdown",
   "metadata": {},
   "source": [
    "### Model: Multinomial Naive Bayes Classifier\n",
    "The multinomial Naive Bayes classifier is suitable for classification with discrete features (e.g., word counts for text classification). The multinomial distribution normally requires integer feature counts."
   ]
  },
  {
   "cell_type": "code",
   "execution_count": 15,
   "metadata": {},
   "outputs": [],
   "source": [
    "from sklearn.naive_bayes import MultinomialNB\n",
    "\n",
    "pipeline1 = Pipeline([('vect', CountVectorizer(ngram_range=(1,2), stop_words=\"english\")),\n",
    "                     ('tfidf', TfidfTransformer()),\n",
    "                     ('nb', MultinomialNB())])\n",
    "\n",
    "#Pipeline: To assemble several steps to be cross-validated together\n",
    "#ngram_range: \n",
    "##Default 1,1: to consider every single word as a separate feature\n",
    "##using   1,2: to look at every separate word and also to look at a pair of 2 words \n",
    "               #to prevent stuff like this- \n",
    "               #E.g. the service in this dealer is not good \n",
    "               #if using 1,1, the algorithms will define as the customer is having good experience in this dealership, \n",
    "               #with 1,2: will consider this comment is actually bad\n",
    "\n",
    "model1 = pipeline1.fit(X_train_v46, y_train_v46)\n",
    "labels1 = model1.predict(X_test_v46)"
   ]
  },
  {
   "cell_type": "code",
   "execution_count": 16,
   "metadata": {},
   "outputs": [
    {
     "name": "stdout",
     "output_type": "stream",
     "text": [
      "Accuracy of Multinomial Naive Bayes Classifier on training set: 0.95\n",
      "Accuracy of Multinomial Naive Bayes Classifier on test set: 0.79\n",
      "\n",
      "Confusion matrix :\n",
      " [[10137  2788]\n",
      " [   84   612]]\n",
      "\n",
      "\n",
      "Classification report :\n",
      "\n",
      "              precision    recall  f1-score   support\n",
      "\n",
      "          0       0.99      0.78      0.88     12925\n",
      "          1       0.18      0.88      0.30       696\n",
      "\n",
      "avg / total       0.95      0.79      0.85     13621\n",
      "\n",
      "ROC Curve\n"
     ]
    },
    {
     "data": {
      "image/png": "[encoded data removed]",
      "text/plain": [
       "<matplotlib.figure.Figure at 0x2691ad7ff60>"
      ]
     },
     "metadata": {},
     "output_type": "display_data"
    }
   ],
   "source": [
    "#to make prediction\n",
    "y_pred_1 = model1.predict(X_test_v46)\n",
    "\n",
    "print('Accuracy of Multinomial Naive Bayes Classifier on training set: {:.2f}'\n",
    "     .format(model1.score(X_train_v46, y_train_v46)))\n",
    "print('Accuracy of Multinomial Naive Bayes Classifier on test set: {:.2f}'\n",
    "     .format(model1.score(X_test_v46, y_test_v46)))\n",
    "print('\\nConfusion matrix :\\n',confusion_matrix(y_test_v46, y_pred_1))\n",
    "print('\\n\\nClassification report :\\n\\n', classification_report(y_test_v46, y_pred_1))\n",
    "\n",
    "\n",
    "fpr1, tpr1, thresholds = roc_curve(y_test_v46, y_pred_1, pos_label=1)\n",
    "auc_result1 = auc(fpr1, tpr1)\n",
    "print('ROC Curve')\n",
    "plt.figure(1)\n",
    "plt.plot([0, 1], [0, 1], 'k--')\n",
    "plt.plot(fpr1, tpr1, label='area = {0:0.2f}'.format(auc_result1))\n",
    "plt.xlabel('False positive rate')\n",
    "plt.ylabel('True positive rate')\n",
    "plt.title('ROC curve')\n",
    "plt.legend(loc='best')\n",
    "plt.show()"
   ]
  },
  {
   "cell_type": "code",
   "execution_count": 17,
   "metadata": {},
   "outputs": [
    {
     "name": "stdout",
     "output_type": "stream",
     "text": [
      "top 10 keywords\n",
      "MultinomialNB: staff selling disinterest really car sales did lack didn interested\n"
     ]
    }
   ],
   "source": [
    "#to show the top feature names \n",
    "vectorizer1 = model1.named_steps['vect']\n",
    "clf1 = model1.named_steps['nb']\n",
    "feature_names = vectorizer1.get_feature_names()\n",
    "feature_names = np.asarray(feature_names)\n",
    "target_names = ['MultinomialNB']\n",
    "print(\"top 10 keywords\")\n",
    "for i, label in enumerate(target_names):\n",
    "    top = np.argsort(clf1.coef_[i])[-10:]\n",
    "    print(\"%s: %s\" % (label, \" \".join(feature_names[top])))"
   ]
  },
  {
   "cell_type": "markdown",
   "metadata": {},
   "source": [
    "### Model: Logistic Regression\n",
    "Logistic regression is a statistical method for analyzing a dataset in which there are one or more independent variables that determine an outcome. The outcome is measured with a dichotomous variable (in which there are only two possible outcomes)."
   ]
  },
  {
   "cell_type": "code",
   "execution_count": 18,
   "metadata": {},
   "outputs": [
    {
     "name": "stdout",
     "output_type": "stream",
     "text": [
      "baseline_mean_score: 0.8580455099553028\n",
      "baseline_std_score: 0.013929886009832807\n",
      "-----------\n",
      "grid_search_best_score 0.8580323785803238\n",
      "grid_search_best_parameters {'log__penalty': 'l2'}\n"
     ]
    }
   ],
   "source": [
    "from sklearn.linear_model import LogisticRegression\n",
    "\n",
    "pipeline2 = Pipeline([('vect', CountVectorizer(ngram_range=(1,2), stop_words=\"english\")),\n",
    "                     ('tfidf', TfidfTransformer()),\n",
    "                     ('log', LogisticRegression())])\n",
    "\n",
    "scores2 = cross_val_score(pipeline2, X_train_v46, y_train_v46, cv=5)\n",
    "#Using K -fold cross-validation to partition training dataset so that the algorithms of our model will run several times. \n",
    "#Each time will choose a part as training data and another part as testing data to get the cross validation scores each time. \n",
    "#This method will overcome overfitting as we do our validation before any tuning on our training data.\n",
    "\n",
    "# To get baseline on the mean scores from cross-validation (cv=5)\n",
    "mean2 = scores2.mean()\n",
    "std2 = scores2.std()\n",
    "print('baseline_mean_score:',mean2)\n",
    "print('baseline_std_score:',std2)\n",
    "\n",
    "# Tuning parameters\n",
    "grid2 = {'log__penalty': ['l1', 'l2']}\n",
    "\n",
    "grid_search2 = GridSearchCV(pipeline2, param_grid=grid2, cv=5)\n",
    "\n",
    "grid_search2.fit(X_train_v46, y_train_v46)\n",
    "print(\"-----------\")\n",
    "print('grid_search_best_score', grid_search2.best_score_)\n",
    "print('grid_search_best_parameters',grid_search2.best_params_)"
   ]
  },
  {
   "cell_type": "code",
   "execution_count": 19,
   "metadata": {},
   "outputs": [],
   "source": [
    "#to apply the best model\n",
    "pipeline2_best = Pipeline([('vect', CountVectorizer(ngram_range=(1,2), stop_words=\"english\")),\n",
    "                           ('tfidf', TfidfTransformer()),\n",
    "                           ('log', LogisticRegression(penalty='l2'))])\n",
    "model2_best = pipeline2_best.fit(X_train_v46, y_train_v46)\n",
    "labels2_best = model2_best.predict(X_test_v46)"
   ]
  },
  {
   "cell_type": "code",
   "execution_count": 20,
   "metadata": {},
   "outputs": [
    {
     "name": "stdout",
     "output_type": "stream",
     "text": [
      "Accuracy of Logistics Regression on training set: 0.94\n",
      "Accuracy of Logistics Regression on test set: 0.86\n",
      "\n",
      "Confusion matrix :\n",
      " [[11183  1742]\n",
      " [  100   596]]\n",
      "\n",
      "\n",
      "Classification report :\n",
      "\n",
      "              precision    recall  f1-score   support\n",
      "\n",
      "          0       0.99      0.87      0.92     12925\n",
      "          1       0.25      0.86      0.39       696\n",
      "\n",
      "avg / total       0.95      0.86      0.90     13621\n",
      "\n",
      "ROC Curve\n"
     ]
    },
    {
     "data": {
      "image/png": "[encoded data removed]",
      "text/plain": [
       "<matplotlib.figure.Figure at 0x26924d71e80>"
      ]
     },
     "metadata": {},
     "output_type": "display_data"
    }
   ],
   "source": [
    "#to make prediction\n",
    "y_pred_2_best = model2_best.predict(X_test_v46)\n",
    "\n",
    "print('Accuracy of Logistics Regression on training set: {:.2f}'\n",
    "     .format(model2_best.score(X_train_v46, y_train_v46)))\n",
    "print('Accuracy of Logistics Regression on test set: {:.2f}'\n",
    "     .format(model2_best.score(X_test_v46, y_test_v46)))\n",
    "print('\\nConfusion matrix :\\n',confusion_matrix(y_test_v46, y_pred_2_best))\n",
    "print('\\n\\nClassification report :\\n\\n', classification_report(y_test_v46, y_pred_2_best))\n",
    "\n",
    "\n",
    "fpr2, tpr2, thresholds = roc_curve(y_test_v46, y_pred_2_best, pos_label=1)\n",
    "auc_result2 = auc(fpr2, tpr2)\n",
    "print('ROC Curve')\n",
    "plt.figure(1)\n",
    "plt.plot([0, 1], [0, 1], 'k--')\n",
    "plt.plot(fpr2, tpr2, label='area = {0:0.2f}'.format(auc_result2))\n",
    "plt.xlabel('False positive rate')\n",
    "plt.ylabel('True positive rate')\n",
    "plt.title('ROC curve')\n",
    "plt.legend(loc='best')\n",
    "plt.show()"
   ]
  },
  {
   "cell_type": "code",
   "execution_count": 21,
   "metadata": {},
   "outputs": [
    {
     "name": "stdout",
     "output_type": "stream",
     "text": [
      "top 10 keywords\n",
      "LogisticRegression: selling really sell did uninterested didn disinterest lack disinterested interested\n"
     ]
    }
   ],
   "source": [
    "#to show the top feature names \n",
    "vectorizer2 = model2_best.named_steps['vect']\n",
    "clf2 = model2_best.named_steps['log']\n",
    "feature_names2 = vectorizer2.get_feature_names()\n",
    "feature_names2 = np.asarray(feature_names2)\n",
    "target_names = ['LogisticRegression']\n",
    "print(\"top 10 keywords\")\n",
    "for i, label in enumerate(target_names):\n",
    "    top2 = np.argsort(clf2.coef_[i])[-10:]\n",
    "    print(\"%s: %s\" % (label, \" \".join(feature_names2[top2])))"
   ]
  },
  {
   "cell_type": "markdown",
   "metadata": {},
   "source": [
    "### Stochastic Gradient Descent \n",
    "Stochastic Gradient Descent Classifier can optimize the same cost function as Linear Support Vector Machine by adjusting the penalty and loss parameters. In addition it requires less memory, allows incremental (online) learning, and implements various loss functions and regularization regimes"
   ]
  },
  {
   "cell_type": "code",
   "execution_count": 22,
   "metadata": {},
   "outputs": [
    {
     "name": "stderr",
     "output_type": "stream",
     "text": [
      "C:\\Users\\SiowHui.Chong\\anaconda3\\lib\\site-packages\\sklearn\\linear_model\\stochastic_gradient.py:128: FutureWarning: max_iter and tol parameters have been added in <class 'sklearn.linear_model.stochastic_gradient.SGDClassifier'> in 0.19. If both are left unset, they default to max_iter=5 and tol=None. If tol is not None, max_iter defaults to max_iter=1000. From 0.21, default max_iter will be 1000, and default tol will be 1e-3.\n",
      "  \"and default tol will be 1e-3.\" % type(self), FutureWarning)\n",
      "C:\\Users\\SiowHui.Chong\\anaconda3\\lib\\site-packages\\sklearn\\linear_model\\stochastic_gradient.py:128: FutureWarning: max_iter and tol parameters have been added in <class 'sklearn.linear_model.stochastic_gradient.SGDClassifier'> in 0.19. If both are left unset, they default to max_iter=5 and tol=None. If tol is not None, max_iter defaults to max_iter=1000. From 0.21, default max_iter will be 1000, and default tol will be 1e-3.\n",
      "  \"and default tol will be 1e-3.\" % type(self), FutureWarning)\n",
      "C:\\Users\\SiowHui.Chong\\anaconda3\\lib\\site-packages\\sklearn\\linear_model\\stochastic_gradient.py:128: FutureWarning: max_iter and tol parameters have been added in <class 'sklearn.linear_model.stochastic_gradient.SGDClassifier'> in 0.19. If both are left unset, they default to max_iter=5 and tol=None. If tol is not None, max_iter defaults to max_iter=1000. From 0.21, default max_iter will be 1000, and default tol will be 1e-3.\n",
      "  \"and default tol will be 1e-3.\" % type(self), FutureWarning)\n",
      "C:\\Users\\SiowHui.Chong\\anaconda3\\lib\\site-packages\\sklearn\\linear_model\\stochastic_gradient.py:128: FutureWarning: max_iter and tol parameters have been added in <class 'sklearn.linear_model.stochastic_gradient.SGDClassifier'> in 0.19. If both are left unset, they default to max_iter=5 and tol=None. If tol is not None, max_iter defaults to max_iter=1000. From 0.21, default max_iter will be 1000, and default tol will be 1e-3.\n",
      "  \"and default tol will be 1e-3.\" % type(self), FutureWarning)\n",
      "C:\\Users\\SiowHui.Chong\\anaconda3\\lib\\site-packages\\sklearn\\linear_model\\stochastic_gradient.py:128: FutureWarning: max_iter and tol parameters have been added in <class 'sklearn.linear_model.stochastic_gradient.SGDClassifier'> in 0.19. If both are left unset, they default to max_iter=5 and tol=None. If tol is not None, max_iter defaults to max_iter=1000. From 0.21, default max_iter will be 1000, and default tol will be 1e-3.\n",
      "  \"and default tol will be 1e-3.\" % type(self), FutureWarning)\n",
      "C:\\Users\\SiowHui.Chong\\anaconda3\\lib\\site-packages\\sklearn\\linear_model\\stochastic_gradient.py:128: FutureWarning: max_iter and tol parameters have been added in <class 'sklearn.linear_model.stochastic_gradient.SGDClassifier'> in 0.19. If both are left unset, they default to max_iter=5 and tol=None. If tol is not None, max_iter defaults to max_iter=1000. From 0.21, default max_iter will be 1000, and default tol will be 1e-3.\n",
      "  \"and default tol will be 1e-3.\" % type(self), FutureWarning)\n"
     ]
    },
    {
     "name": "stdout",
     "output_type": "stream",
     "text": [
      "baseline_mean_score: 0.8465151603103654\n",
      "baseline_std_score: 0.009845742972064248\n"
     ]
    },
    {
     "name": "stderr",
     "output_type": "stream",
     "text": [
      "C:\\Users\\SiowHui.Chong\\anaconda3\\lib\\site-packages\\sklearn\\linear_model\\stochastic_gradient.py:128: FutureWarning: max_iter and tol parameters have been added in <class 'sklearn.linear_model.stochastic_gradient.SGDClassifier'> in 0.19. If both are left unset, they default to max_iter=5 and tol=None. If tol is not None, max_iter defaults to max_iter=1000. From 0.21, default max_iter will be 1000, and default tol will be 1e-3.\n",
      "  \"and default tol will be 1e-3.\" % type(self), FutureWarning)\n",
      "C:\\Users\\SiowHui.Chong\\anaconda3\\lib\\site-packages\\sklearn\\linear_model\\stochastic_gradient.py:128: FutureWarning: max_iter and tol parameters have been added in <class 'sklearn.linear_model.stochastic_gradient.SGDClassifier'> in 0.19. If both are left unset, they default to max_iter=5 and tol=None. If tol is not None, max_iter defaults to max_iter=1000. From 0.21, default max_iter will be 1000, and default tol will be 1e-3.\n",
      "  \"and default tol will be 1e-3.\" % type(self), FutureWarning)\n",
      "C:\\Users\\SiowHui.Chong\\anaconda3\\lib\\site-packages\\sklearn\\linear_model\\stochastic_gradient.py:128: FutureWarning: max_iter and tol parameters have been added in <class 'sklearn.linear_model.stochastic_gradient.SGDClassifier'> in 0.19. If both are left unset, they default to max_iter=5 and tol=None. If tol is not None, max_iter defaults to max_iter=1000. From 0.21, default max_iter will be 1000, and default tol will be 1e-3.\n",
      "  \"and default tol will be 1e-3.\" % type(self), FutureWarning)\n",
      "C:\\Users\\SiowHui.Chong\\anaconda3\\lib\\site-packages\\sklearn\\linear_model\\stochastic_gradient.py:128: FutureWarning: max_iter and tol parameters have been added in <class 'sklearn.linear_model.stochastic_gradient.SGDClassifier'> in 0.19. If both are left unset, they default to max_iter=5 and tol=None. If tol is not None, max_iter defaults to max_iter=1000. From 0.21, default max_iter will be 1000, and default tol will be 1e-3.\n",
      "  \"and default tol will be 1e-3.\" % type(self), FutureWarning)\n",
      "C:\\Users\\SiowHui.Chong\\anaconda3\\lib\\site-packages\\sklearn\\linear_model\\stochastic_gradient.py:128: FutureWarning: max_iter and tol parameters have been added in <class 'sklearn.linear_model.stochastic_gradient.SGDClassifier'> in 0.19. If both are left unset, they default to max_iter=5 and tol=None. If tol is not None, max_iter defaults to max_iter=1000. From 0.21, default max_iter will be 1000, and default tol will be 1e-3.\n",
      "  \"and default tol will be 1e-3.\" % type(self), FutureWarning)\n",
      "C:\\Users\\SiowHui.Chong\\anaconda3\\lib\\site-packages\\sklearn\\linear_model\\stochastic_gradient.py:128: FutureWarning: max_iter and tol parameters have been added in <class 'sklearn.linear_model.stochastic_gradient.SGDClassifier'> in 0.19. If both are left unset, they default to max_iter=5 and tol=None. If tol is not None, max_iter defaults to max_iter=1000. From 0.21, default max_iter will be 1000, and default tol will be 1e-3.\n",
      "  \"and default tol will be 1e-3.\" % type(self), FutureWarning)\n",
      "C:\\Users\\SiowHui.Chong\\anaconda3\\lib\\site-packages\\sklearn\\linear_model\\stochastic_gradient.py:128: FutureWarning: max_iter and tol parameters have been added in <class 'sklearn.linear_model.stochastic_gradient.SGDClassifier'> in 0.19. If both are left unset, they default to max_iter=5 and tol=None. If tol is not None, max_iter defaults to max_iter=1000. From 0.21, default max_iter will be 1000, and default tol will be 1e-3.\n",
      "  \"and default tol will be 1e-3.\" % type(self), FutureWarning)\n",
      "C:\\Users\\SiowHui.Chong\\anaconda3\\lib\\site-packages\\sklearn\\linear_model\\stochastic_gradient.py:128: FutureWarning: max_iter and tol parameters have been added in <class 'sklearn.linear_model.stochastic_gradient.SGDClassifier'> in 0.19. If both are left unset, they default to max_iter=5 and tol=None. If tol is not None, max_iter defaults to max_iter=1000. From 0.21, default max_iter will be 1000, and default tol will be 1e-3.\n",
      "  \"and default tol will be 1e-3.\" % type(self), FutureWarning)\n",
      "C:\\Users\\SiowHui.Chong\\anaconda3\\lib\\site-packages\\sklearn\\linear_model\\stochastic_gradient.py:128: FutureWarning: max_iter and tol parameters have been added in <class 'sklearn.linear_model.stochastic_gradient.SGDClassifier'> in 0.19. If both are left unset, they default to max_iter=5 and tol=None. If tol is not None, max_iter defaults to max_iter=1000. From 0.21, default max_iter will be 1000, and default tol will be 1e-3.\n",
      "  \"and default tol will be 1e-3.\" % type(self), FutureWarning)\n",
      "C:\\Users\\SiowHui.Chong\\anaconda3\\lib\\site-packages\\sklearn\\linear_model\\stochastic_gradient.py:128: FutureWarning: max_iter and tol parameters have been added in <class 'sklearn.linear_model.stochastic_gradient.SGDClassifier'> in 0.19. If both are left unset, they default to max_iter=5 and tol=None. If tol is not None, max_iter defaults to max_iter=1000. From 0.21, default max_iter will be 1000, and default tol will be 1e-3.\n",
      "  \"and default tol will be 1e-3.\" % type(self), FutureWarning)\n",
      "C:\\Users\\SiowHui.Chong\\anaconda3\\lib\\site-packages\\sklearn\\linear_model\\stochastic_gradient.py:128: FutureWarning: max_iter and tol parameters have been added in <class 'sklearn.linear_model.stochastic_gradient.SGDClassifier'> in 0.19. If both are left unset, they default to max_iter=5 and tol=None. If tol is not None, max_iter defaults to max_iter=1000. From 0.21, default max_iter will be 1000, and default tol will be 1e-3.\n",
      "  \"and default tol will be 1e-3.\" % type(self), FutureWarning)\n",
      "C:\\Users\\SiowHui.Chong\\anaconda3\\lib\\site-packages\\sklearn\\linear_model\\stochastic_gradient.py:128: FutureWarning: max_iter and tol parameters have been added in <class 'sklearn.linear_model.stochastic_gradient.SGDClassifier'> in 0.19. If both are left unset, they default to max_iter=5 and tol=None. If tol is not None, max_iter defaults to max_iter=1000. From 0.21, default max_iter will be 1000, and default tol will be 1e-3.\n",
      "  \"and default tol will be 1e-3.\" % type(self), FutureWarning)\n",
      "C:\\Users\\SiowHui.Chong\\anaconda3\\lib\\site-packages\\sklearn\\linear_model\\stochastic_gradient.py:128: FutureWarning: max_iter and tol parameters have been added in <class 'sklearn.linear_model.stochastic_gradient.SGDClassifier'> in 0.19. If both are left unset, they default to max_iter=5 and tol=None. If tol is not None, max_iter defaults to max_iter=1000. From 0.21, default max_iter will be 1000, and default tol will be 1e-3.\n",
      "  \"and default tol will be 1e-3.\" % type(self), FutureWarning)\n",
      "C:\\Users\\SiowHui.Chong\\anaconda3\\lib\\site-packages\\sklearn\\linear_model\\stochastic_gradient.py:128: FutureWarning: max_iter and tol parameters have been added in <class 'sklearn.linear_model.stochastic_gradient.SGDClassifier'> in 0.19. If both are left unset, they default to max_iter=5 and tol=None. If tol is not None, max_iter defaults to max_iter=1000. From 0.21, default max_iter will be 1000, and default tol will be 1e-3.\n",
      "  \"and default tol will be 1e-3.\" % type(self), FutureWarning)\n",
      "C:\\Users\\SiowHui.Chong\\anaconda3\\lib\\site-packages\\sklearn\\linear_model\\stochastic_gradient.py:128: FutureWarning: max_iter and tol parameters have been added in <class 'sklearn.linear_model.stochastic_gradient.SGDClassifier'> in 0.19. If both are left unset, they default to max_iter=5 and tol=None. If tol is not None, max_iter defaults to max_iter=1000. From 0.21, default max_iter will be 1000, and default tol will be 1e-3.\n",
      "  \"and default tol will be 1e-3.\" % type(self), FutureWarning)\n",
      "C:\\Users\\SiowHui.Chong\\anaconda3\\lib\\site-packages\\sklearn\\linear_model\\stochastic_gradient.py:128: FutureWarning: max_iter and tol parameters have been added in <class 'sklearn.linear_model.stochastic_gradient.SGDClassifier'> in 0.19. If both are left unset, they default to max_iter=5 and tol=None. If tol is not None, max_iter defaults to max_iter=1000. From 0.21, default max_iter will be 1000, and default tol will be 1e-3.\n",
      "  \"and default tol will be 1e-3.\" % type(self), FutureWarning)\n",
      "C:\\Users\\SiowHui.Chong\\anaconda3\\lib\\site-packages\\sklearn\\linear_model\\stochastic_gradient.py:128: FutureWarning: max_iter and tol parameters have been added in <class 'sklearn.linear_model.stochastic_gradient.SGDClassifier'> in 0.19. If both are left unset, they default to max_iter=5 and tol=None. If tol is not None, max_iter defaults to max_iter=1000. From 0.21, default max_iter will be 1000, and default tol will be 1e-3.\n",
      "  \"and default tol will be 1e-3.\" % type(self), FutureWarning)\n"
     ]
    },
    {
     "name": "stderr",
     "output_type": "stream",
     "text": [
      "C:\\Users\\SiowHui.Chong\\anaconda3\\lib\\site-packages\\sklearn\\linear_model\\stochastic_gradient.py:128: FutureWarning: max_iter and tol parameters have been added in <class 'sklearn.linear_model.stochastic_gradient.SGDClassifier'> in 0.19. If both are left unset, they default to max_iter=5 and tol=None. If tol is not None, max_iter defaults to max_iter=1000. From 0.21, default max_iter will be 1000, and default tol will be 1e-3.\n",
      "  \"and default tol will be 1e-3.\" % type(self), FutureWarning)\n",
      "C:\\Users\\SiowHui.Chong\\anaconda3\\lib\\site-packages\\sklearn\\linear_model\\stochastic_gradient.py:128: FutureWarning: max_iter and tol parameters have been added in <class 'sklearn.linear_model.stochastic_gradient.SGDClassifier'> in 0.19. If both are left unset, they default to max_iter=5 and tol=None. If tol is not None, max_iter defaults to max_iter=1000. From 0.21, default max_iter will be 1000, and default tol will be 1e-3.\n",
      "  \"and default tol will be 1e-3.\" % type(self), FutureWarning)\n",
      "C:\\Users\\SiowHui.Chong\\anaconda3\\lib\\site-packages\\sklearn\\linear_model\\stochastic_gradient.py:128: FutureWarning: max_iter and tol parameters have been added in <class 'sklearn.linear_model.stochastic_gradient.SGDClassifier'> in 0.19. If both are left unset, they default to max_iter=5 and tol=None. If tol is not None, max_iter defaults to max_iter=1000. From 0.21, default max_iter will be 1000, and default tol will be 1e-3.\n",
      "  \"and default tol will be 1e-3.\" % type(self), FutureWarning)\n",
      "C:\\Users\\SiowHui.Chong\\anaconda3\\lib\\site-packages\\sklearn\\linear_model\\stochastic_gradient.py:128: FutureWarning: max_iter and tol parameters have been added in <class 'sklearn.linear_model.stochastic_gradient.SGDClassifier'> in 0.19. If both are left unset, they default to max_iter=5 and tol=None. If tol is not None, max_iter defaults to max_iter=1000. From 0.21, default max_iter will be 1000, and default tol will be 1e-3.\n",
      "  \"and default tol will be 1e-3.\" % type(self), FutureWarning)\n",
      "C:\\Users\\SiowHui.Chong\\anaconda3\\lib\\site-packages\\sklearn\\linear_model\\stochastic_gradient.py:128: FutureWarning: max_iter and tol parameters have been added in <class 'sklearn.linear_model.stochastic_gradient.SGDClassifier'> in 0.19. If both are left unset, they default to max_iter=5 and tol=None. If tol is not None, max_iter defaults to max_iter=1000. From 0.21, default max_iter will be 1000, and default tol will be 1e-3.\n",
      "  \"and default tol will be 1e-3.\" % type(self), FutureWarning)\n",
      "C:\\Users\\SiowHui.Chong\\anaconda3\\lib\\site-packages\\sklearn\\linear_model\\stochastic_gradient.py:128: FutureWarning: max_iter and tol parameters have been added in <class 'sklearn.linear_model.stochastic_gradient.SGDClassifier'> in 0.19. If both are left unset, they default to max_iter=5 and tol=None. If tol is not None, max_iter defaults to max_iter=1000. From 0.21, default max_iter will be 1000, and default tol will be 1e-3.\n",
      "  \"and default tol will be 1e-3.\" % type(self), FutureWarning)\n",
      "C:\\Users\\SiowHui.Chong\\anaconda3\\lib\\site-packages\\sklearn\\linear_model\\stochastic_gradient.py:128: FutureWarning: max_iter and tol parameters have been added in <class 'sklearn.linear_model.stochastic_gradient.SGDClassifier'> in 0.19. If both are left unset, they default to max_iter=5 and tol=None. If tol is not None, max_iter defaults to max_iter=1000. From 0.21, default max_iter will be 1000, and default tol will be 1e-3.\n",
      "  \"and default tol will be 1e-3.\" % type(self), FutureWarning)\n",
      "C:\\Users\\SiowHui.Chong\\anaconda3\\lib\\site-packages\\sklearn\\linear_model\\stochastic_gradient.py:128: FutureWarning: max_iter and tol parameters have been added in <class 'sklearn.linear_model.stochastic_gradient.SGDClassifier'> in 0.19. If both are left unset, they default to max_iter=5 and tol=None. If tol is not None, max_iter defaults to max_iter=1000. From 0.21, default max_iter will be 1000, and default tol will be 1e-3.\n",
      "  \"and default tol will be 1e-3.\" % type(self), FutureWarning)\n",
      "C:\\Users\\SiowHui.Chong\\anaconda3\\lib\\site-packages\\sklearn\\linear_model\\stochastic_gradient.py:128: FutureWarning: max_iter and tol parameters have been added in <class 'sklearn.linear_model.stochastic_gradient.SGDClassifier'> in 0.19. If both are left unset, they default to max_iter=5 and tol=None. If tol is not None, max_iter defaults to max_iter=1000. From 0.21, default max_iter will be 1000, and default tol will be 1e-3.\n",
      "  \"and default tol will be 1e-3.\" % type(self), FutureWarning)\n",
      "C:\\Users\\SiowHui.Chong\\anaconda3\\lib\\site-packages\\sklearn\\linear_model\\stochastic_gradient.py:128: FutureWarning: max_iter and tol parameters have been added in <class 'sklearn.linear_model.stochastic_gradient.SGDClassifier'> in 0.19. If both are left unset, they default to max_iter=5 and tol=None. If tol is not None, max_iter defaults to max_iter=1000. From 0.21, default max_iter will be 1000, and default tol will be 1e-3.\n",
      "  \"and default tol will be 1e-3.\" % type(self), FutureWarning)\n",
      "C:\\Users\\SiowHui.Chong\\anaconda3\\lib\\site-packages\\sklearn\\linear_model\\stochastic_gradient.py:128: FutureWarning: max_iter and tol parameters have been added in <class 'sklearn.linear_model.stochastic_gradient.SGDClassifier'> in 0.19. If both are left unset, they default to max_iter=5 and tol=None. If tol is not None, max_iter defaults to max_iter=1000. From 0.21, default max_iter will be 1000, and default tol will be 1e-3.\n",
      "  \"and default tol will be 1e-3.\" % type(self), FutureWarning)\n",
      "C:\\Users\\SiowHui.Chong\\anaconda3\\lib\\site-packages\\sklearn\\linear_model\\stochastic_gradient.py:128: FutureWarning: max_iter and tol parameters have been added in <class 'sklearn.linear_model.stochastic_gradient.SGDClassifier'> in 0.19. If both are left unset, they default to max_iter=5 and tol=None. If tol is not None, max_iter defaults to max_iter=1000. From 0.21, default max_iter will be 1000, and default tol will be 1e-3.\n",
      "  \"and default tol will be 1e-3.\" % type(self), FutureWarning)\n"
     ]
    },
    {
     "name": "stdout",
     "output_type": "stream",
     "text": [
      "-----------\n",
      "grid_search_best_score 0.8617683686176837\n",
      "grid_search_best_parameters {'sgd__loss': 'log', 'sgd__penalty': 'l1'}\n"
     ]
    },
    {
     "name": "stderr",
     "output_type": "stream",
     "text": [
      "C:\\Users\\SiowHui.Chong\\anaconda3\\lib\\site-packages\\sklearn\\linear_model\\stochastic_gradient.py:128: FutureWarning: max_iter and tol parameters have been added in <class 'sklearn.linear_model.stochastic_gradient.SGDClassifier'> in 0.19. If both are left unset, they default to max_iter=5 and tol=None. If tol is not None, max_iter defaults to max_iter=1000. From 0.21, default max_iter will be 1000, and default tol will be 1e-3.\n",
      "  \"and default tol will be 1e-3.\" % type(self), FutureWarning)\n"
     ]
    }
   ],
   "source": [
    "from sklearn.linear_model import SGDClassifier\n",
    "\n",
    "pipeline3 = Pipeline([('vect', CountVectorizer(ngram_range=(1,2), stop_words=\"english\")),\n",
    "                     ('tfidf', TfidfTransformer()),\n",
    "                     ('sgd', SGDClassifier())])\n",
    "\n",
    "scores3 = cross_val_score(pipeline3, X_train_v46, y_train_v46, cv=5)\n",
    "\n",
    "# To get baseline on the mean scores from cross-validation (cv=5)\n",
    "mean3 = scores3.mean()\n",
    "std3 = scores3.std()\n",
    "print('baseline_mean_score:',mean3)\n",
    "print('baseline_std_score:',std3)\n",
    "\n",
    "# Tuning parameters\n",
    "grid3 = {'sgd__penalty': ['l1','l2'],\n",
    "         'sgd__loss': ['modified_huber','hinge','log']}\n",
    "\n",
    "\n",
    "grid_search3 = GridSearchCV(pipeline3, param_grid=grid3, cv=5)\n",
    "\n",
    "grid_search3.fit(X_train_v46, y_train_v46)\n",
    "print(\"-----------\")\n",
    "print('grid_search_best_score', grid_search3.best_score_)\n",
    "print('grid_search_best_parameters',grid_search3.best_params_)"
   ]
  },
  {
   "cell_type": "code",
   "execution_count": 23,
   "metadata": {},
   "outputs": [
    {
     "name": "stderr",
     "output_type": "stream",
     "text": [
      "C:\\Users\\SiowHui.Chong\\anaconda3\\lib\\site-packages\\sklearn\\linear_model\\stochastic_gradient.py:128: FutureWarning: max_iter and tol parameters have been added in <class 'sklearn.linear_model.stochastic_gradient.SGDClassifier'> in 0.19. If both are left unset, they default to max_iter=5 and tol=None. If tol is not None, max_iter defaults to max_iter=1000. From 0.21, default max_iter will be 1000, and default tol will be 1e-3.\n",
      "  \"and default tol will be 1e-3.\" % type(self), FutureWarning)\n"
     ]
    }
   ],
   "source": [
    "#to apply the best model\n",
    "pipeline3_best = Pipeline([('vect', CountVectorizer(ngram_range=(1,2), stop_words=\"english\")),\n",
    "                           ('tfidf', TfidfTransformer()),\n",
    "                           ('sgd', SGDClassifier(penalty='l1',loss='log'))])\n",
    "model3_best = pipeline3_best.fit(X_train_v46, y_train_v46)\n",
    "labels3_best = model3_best.predict(X_test_v46)"
   ]
  },
  {
   "cell_type": "code",
   "execution_count": 24,
   "metadata": {},
   "outputs": [
    {
     "name": "stdout",
     "output_type": "stream",
     "text": [
      "Accuracy of SGD on training set: 0.91\n",
      "Accuracy of SGD on test set: 0.87\n",
      "\n",
      "Confusion matrix :\n",
      " [[11273  1652]\n",
      " [  111   585]]\n",
      "\n",
      "\n",
      "Classification report :\n",
      "\n",
      "              precision    recall  f1-score   support\n",
      "\n",
      "          0       0.99      0.87      0.93     12925\n",
      "          1       0.26      0.84      0.40       696\n",
      "\n",
      "avg / total       0.95      0.87      0.90     13621\n",
      "\n",
      "ROC Curve\n"
     ]
    },
    {
     "data": {
      "image/png": "[encoded data removed]",
      "text/plain": [
       "<matplotlib.figure.Figure at 0x26925472908>"
      ]
     },
     "metadata": {},
     "output_type": "display_data"
    }
   ],
   "source": [
    "#to make prediction\n",
    "y_pred_3_best = model3_best.predict(X_test_v46)\n",
    "\n",
    "print('Accuracy of SGD on training set: {:.2f}'\n",
    "     .format(model3_best.score(X_train_v46, y_train_v46)))\n",
    "print('Accuracy of SGD on test set: {:.2f}'\n",
    "     .format(model3_best.score(X_test_v46, y_test_v46)))\n",
    "print('\\nConfusion matrix :\\n',confusion_matrix(y_test_v46, y_pred_3_best))\n",
    "print('\\n\\nClassification report :\\n\\n', classification_report(y_test_v46, y_pred_3_best))\n",
    "\n",
    "\n",
    "fpr3, tpr3, thresholds = roc_curve(y_test_v46, y_pred_3_best, pos_label=1)\n",
    "auc_result3 = auc(fpr3, tpr3)\n",
    "print('ROC Curve')\n",
    "plt.figure(1)\n",
    "plt.plot([0, 1], [0, 1], 'k--')\n",
    "plt.plot(fpr3, tpr3, label='area = {0:0.2f}'.format(auc_result3))\n",
    "plt.xlabel('False positive rate')\n",
    "plt.ylabel('True positive rate')\n",
    "plt.title('ROC curve')\n",
    "plt.legend(loc='best')\n",
    "plt.show()"
   ]
  },
  {
   "cell_type": "code",
   "execution_count": 25,
   "metadata": {},
   "outputs": [
    {
     "name": "stdout",
     "output_type": "stream",
     "text": [
      "top 10 keywords\n",
      "SGDClassifier: attention didn enthusiastic shown lack sell disinterest uninterested disinterested interested\n"
     ]
    }
   ],
   "source": [
    "#to show the top feature names \n",
    "vectorizer3 = model3_best.named_steps['vect']\n",
    "clf3 = model3_best.named_steps['sgd']\n",
    "feature_names3 = vectorizer3.get_feature_names()\n",
    "feature_names3 = np.asarray(feature_names3)\n",
    "target_names = ['SGDClassifier']\n",
    "print(\"top 10 keywords\")\n",
    "for i, label in enumerate(target_names):\n",
    "    top3 = np.argsort(clf3.coef_[i])[-10:]\n",
    "    print(\"%s: %s\" % (label, \" \".join(feature_names3[top3])))"
   ]
  },
  {
   "cell_type": "markdown",
   "metadata": {},
   "source": [
    "### Random Forest Classifier\n",
    "A random forest is a meta estimator that fits a number of decision tree classifiers on various sub-samples of the dataset and use averaging to improve the predictive accuracy and control over-fitting. "
   ]
  },
  {
   "cell_type": "code",
   "execution_count": 26,
   "metadata": {},
   "outputs": [
    {
     "name": "stdout",
     "output_type": "stream",
     "text": [
      "baseline_mean_score: 0.8132118186567597\n",
      "baseline_std_score: 0.013295575157062004\n",
      "-----------\n",
      "grid_search_best_score 0.8244084682440846\n",
      "grid_search_best_parameters {'rf__n_estimators': 50}\n"
     ]
    }
   ],
   "source": [
    "from sklearn.ensemble import RandomForestClassifier\n",
    "\n",
    "pipeline4 = Pipeline([('vect', CountVectorizer(ngram_range=(1,2), stop_words=\"english\")),\n",
    "                     ('tfidf', TfidfTransformer()),\n",
    "                     ('rf', RandomForestClassifier())])\n",
    "\n",
    "scores4 = cross_val_score(pipeline4, X_train_v46, y_train_v46, cv=5)\n",
    "\n",
    "# To get baseline on the mean scores from cross-validation (cv=5)\n",
    "mean4 = scores4.mean()\n",
    "std4 = scores4.std()\n",
    "print('baseline_mean_score:',mean4)\n",
    "print('baseline_std_score:',std4)\n",
    "\n",
    "# Tuning parameters\n",
    "grid4 = {'rf__n_estimators': [10,20,50]}\n",
    "\n",
    "\n",
    "grid_search4 = GridSearchCV(pipeline4, param_grid=grid4, cv=5)\n",
    "\n",
    "grid_search4.fit(X_train_v46, y_train_v46)\n",
    "print(\"-----------\")\n",
    "print('grid_search_best_score', grid_search4.best_score_)\n",
    "print('grid_search_best_parameters',grid_search4.best_params_)"
   ]
  },
  {
   "cell_type": "code",
   "execution_count": 27,
   "metadata": {},
   "outputs": [],
   "source": [
    "#to apply the best model\n",
    "pipeline4_best = Pipeline([('vect', CountVectorizer(ngram_range=(1,2), stop_words=\"english\")),\n",
    "                           ('tfidf', TfidfTransformer()),\n",
    "                           ('rf', RandomForestClassifier(n_estimators=50))])\n",
    "model4_best = pipeline4_best.fit(X_train_v46, y_train_v46)\n",
    "labels4_best = model4_best.predict(X_test_v46)"
   ]
  },
  {
   "cell_type": "code",
   "execution_count": 28,
   "metadata": {},
   "outputs": [
    {
     "name": "stdout",
     "output_type": "stream",
     "text": [
      "Accuracy of Random Forest on training set: 1.00\n",
      "Accuracy of Random Forest on test set: 0.79\n",
      "\n",
      "Confusion matrix :\n",
      " [[10121  2804]\n",
      " [   88   608]]\n",
      "\n",
      "\n",
      "Classification report :\n",
      "\n",
      "              precision    recall  f1-score   support\n",
      "\n",
      "          0       0.99      0.78      0.87     12925\n",
      "          1       0.18      0.87      0.30       696\n",
      "\n",
      "avg / total       0.95      0.79      0.85     13621\n",
      "\n",
      "ROC Curve\n"
     ]
    },
    {
     "data": {
      "image/png": "[encoded data removed]",
      "text/plain": [
       "<matplotlib.figure.Figure at 0x26927109390>"
      ]
     },
     "metadata": {},
     "output_type": "display_data"
    }
   ],
   "source": [
    "#to make prediction\n",
    "y_pred_4_best = model4_best.predict(X_test_v46)\n",
    "\n",
    "print('Accuracy of Random Forest on training set: {:.2f}'\n",
    "     .format(model4_best.score(X_train_v46, y_train_v46)))\n",
    "print('Accuracy of Random Forest on test set: {:.2f}'\n",
    "     .format(model4_best.score(X_test_v46, y_test_v46)))\n",
    "print('\\nConfusion matrix :\\n',confusion_matrix(y_test_v46, y_pred_4_best))\n",
    "print('\\n\\nClassification report :\\n\\n', classification_report(y_test_v46, y_pred_4_best))\n",
    "\n",
    "\n",
    "fpr4, tpr4, thresholds = roc_curve(y_test_v46, y_pred_4_best, pos_label=1)\n",
    "auc_result4 = auc(fpr4, tpr4)\n",
    "print('ROC Curve')\n",
    "plt.figure(1)\n",
    "plt.plot([0, 1], [0, 1], 'k--')\n",
    "plt.plot(fpr4, tpr4, label='area = {0:0.2f}'.format(auc_result4))\n",
    "plt.xlabel('False positive rate')\n",
    "plt.ylabel('True positive rate')\n",
    "plt.title('ROC curve')\n",
    "plt.legend(loc='best')\n",
    "plt.show()"
   ]
  },
  {
   "cell_type": "markdown",
   "metadata": {},
   "source": [
    "### Conclusion"
   ]
  },
  {
   "cell_type": "markdown",
   "metadata": {
    "collapsed": true
   },
   "source": [
    "<img src=\"./Data/Model-v46.JPG\", width=1000>"
   ]
  },
  {
   "cell_type": "markdown",
   "metadata": {},
   "source": [
    "#### Choose: Logistic Regression: Simple and Fast with high accuracy and f1-score"
   ]
  },
  {
   "cell_type": "markdown",
   "metadata": {},
   "source": [
    "### Prediction on unseen data"
   ]
  },
  {
   "cell_type": "code",
   "execution_count": 29,
   "metadata": {},
   "outputs": [
    {
     "name": "stdout",
     "output_type": "stream",
     "text": [
      "[1]\n",
      "[1]\n",
      "[1]\n",
      "[1]\n"
     ]
    }
   ],
   "source": [
    "print(model1.predict(['It was ok, the guy was leaving so he wasn`t too interested in selling a car']))\n",
    "print(model2_best.predict(['It was ok, the guy was leaving so he wasn`t too interested in selling a car']))\n",
    "print(model3_best.predict(['It was ok, the guy was leaving so he wasn`t too interested in selling a car']))\n",
    "print(model4_best.predict(['It was ok, the guy was leaving so he wasn`t too interested in selling a car']))"
   ]
  },
  {
   "cell_type": "code",
   "execution_count": 30,
   "metadata": {},
   "outputs": [
    {
     "name": "stdout",
     "output_type": "stream",
     "text": [
      "[1]\n",
      "[0]\n",
      "[0]\n",
      "[0]\n"
     ]
    }
   ],
   "source": [
    "print(model1.predict(['Not bothered to show me a carNo cars were unlockedStaff sitting on the bonnet of a \"new\" car watching us trying to get into carsVery hot day. All the cars were outside']))\n",
    "print(model2_best.predict(['Not bothered to show me a carNo cars were unlockedStaff sitting on the bonnet of a \"new\" car watching us trying to get into carsVery hot day. All the cars were outside']))\n",
    "print(model3_best.predict(['Not bothered to show me a carNo cars were unlockedStaff sitting on the bonnet of a \"new\" car watching us trying to get into carsVery hot day. All the cars were outside']))\n",
    "print(model4_best.predict(['Not bothered to show me a carNo cars were unlockedStaff sitting on the bonnet of a \"new\" car watching us trying to get into carsVery hot day. All the cars were outside']))\n"
   ]
  },
  {
   "cell_type": "code",
   "execution_count": 31,
   "metadata": {},
   "outputs": [
    {
     "name": "stdout",
     "output_type": "stream",
     "text": [
      "[1]\n",
      "[1]\n",
      "[1]\n",
      "[1]\n"
     ]
    }
   ],
   "source": [
    "print(model1.predict(['Lack of enthusiasm']))\n",
    "print(model2_best.predict(['Lack of enthusiasm']))\n",
    "print(model3_best.predict(['Lack of enthusiasm']))\n",
    "print(model4_best.predict(['Lack of enthusiasm']))"
   ]
  },
  {
   "cell_type": "code",
   "execution_count": 32,
   "metadata": {},
   "outputs": [
    {
     "name": "stdout",
     "output_type": "stream",
     "text": [
      "[1]\n",
      "[0]\n",
      "[0]\n",
      "[0]\n"
     ]
    }
   ],
   "source": [
    "print(model1.predict([' - staff were talking in a corner ignoring staff, I inquired about a yellow Clio and was told it was unavailable in anything under a $32k sports model and was told the rest had a weak 0.9 litre engine and left the dealership at that point.']))\n",
    "print(model2_best.predict([' - staff were talking in a corner ignoring staff, I inquired about a yellow Clio and was told it was unavailable in anything under a $32k sports model and was told the rest had a weak 0.9 litre engine and left the dealership at that point.']))\n",
    "print(model3_best.predict([' - staff were talking in a corner ignoring staff, I inquired about a yellow Clio and was told it was unavailable in anything under a $32k sports model and was told the rest had a weak 0.9 litre engine and left the dealership at that point.']))\n",
    "print(model4_best.predict([' - staff were talking in a corner ignoring staff, I inquired about a yellow Clio and was told it was unavailable in anything under a $32k sports model and was told the rest had a weak 0.9 litre engine and left the dealership at that point.']))"
   ]
  }
 ],
 "metadata": {
  "kernelspec": {
   "display_name": "Python 3",
   "language": "python",
   "name": "python3"
  },
  "language_info": {
   "codemirror_mode": {
    "name": "ipython",
    "version": 3
   },
   "file_extension": ".py",
   "mimetype": "text/x-python",
   "name": "python",
   "nbconvert_exporter": "python",
   "pygments_lexer": "ipython3",
   "version": "3.6.3"
  }
 },
 "nbformat": 4,
 "nbformat_minor": 2
}
